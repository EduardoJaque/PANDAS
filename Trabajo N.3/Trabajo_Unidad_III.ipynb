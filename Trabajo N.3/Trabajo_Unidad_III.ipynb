{
 "cells": [
  {
   "cell_type": "markdown",
   "metadata": {
    "id": "V7XXkIMMXgIZ"
   },
   "source": [
    "# Instrucciones del Trabajo:\n",
    "\n",
    "Para realizar la evaluación de la Unidad III, deberán seleccionar un set de datos de libre elección junto con su grupo. Deben elegir un tema que les parezca interesante y realizar un análisis de datos usando herramientas de visualización de datos en Python.\n",
    "\n",
    "*** Debe responder las preguntas que se presentan a continuación."
   ]
  },
  {
   "cell_type": "markdown",
   "metadata": {
    "id": "PGep4RkmTzLB"
   },
   "source": [
    "# Trabajo Unidad III \n",
    "\n",
    "**Integrantes:**\n",
    "* EDUARDO JAQUE\n"
   ]
  },
  {
   "cell_type": "markdown",
   "metadata": {
    "id": "3hsMD9f-gAXH"
   },
   "source": [
    "* solo a modo de desmostracion, instalamos la libreria docx con pip"
   ]
  },
  {
   "cell_type": "code",
   "execution_count": 2,
   "metadata": {
    "colab": {
     "base_uri": "https://localhost:8080/"
    },
    "executionInfo": {
     "elapsed": 10932,
     "status": "ok",
     "timestamp": 1734450498139,
     "user": {
      "displayName": "AGUSTÍN EDUARDO FUENZALIDA VERGARA",
      "userId": "01358482526550659102"
     },
     "user_tz": 180
    },
    "id": "DzmLVTLH0XSx",
    "outputId": "e75a0760-3491-483d-8ccb-ac02e3f6a2d2"
   },
   "outputs": [
    {
     "name": "stdout",
     "output_type": "stream",
     "text": [
      "Collecting python-docx\n",
      "  Downloading python_docx-1.1.2-py3-none-any.whl.metadata (2.0 kB)\n",
      "Requirement already satisfied: lxml>=3.1.0 in /usr/local/lib/python3.10/dist-packages (from python-docx) (5.3.0)\n",
      "Requirement already satisfied: typing-extensions>=4.9.0 in /usr/local/lib/python3.10/dist-packages (from python-docx) (4.12.2)\n",
      "Downloading python_docx-1.1.2-py3-none-any.whl (244 kB)\n",
      "\u001b[?25l   \u001b[90m━━━━━━━━━━━━━━━━━━━━━━━━━━━━━━━━━━━━━━━━\u001b[0m \u001b[32m0.0/244.3 kB\u001b[0m \u001b[31m?\u001b[0m eta \u001b[36m-:--:--\u001b[0m\r\u001b[2K   \u001b[91m━━━━━━━━━━━━━━━━━━━━━━━━━━━━━━━\u001b[0m\u001b[91m╸\u001b[0m\u001b[90m━━━━━━━━\u001b[0m \u001b[32m194.6/244.3 kB\u001b[0m \u001b[31m5.6 MB/s\u001b[0m eta \u001b[36m0:00:01\u001b[0m\r\u001b[2K   \u001b[90m━━━━━━━━━━━━━━━━━━━━━━━━━━━━━━━━━━━━━━━━\u001b[0m \u001b[32m244.3/244.3 kB\u001b[0m \u001b[31m4.4 MB/s\u001b[0m eta \u001b[36m0:00:00\u001b[0m\n",
      "\u001b[?25hInstalling collected packages: python-docx\n",
      "Successfully installed python-docx-1.1.2\n"
     ]
    }
   ],
   "source": [
    "pip install python-docx"
   ]
  },
  {
   "cell_type": "markdown",
   "metadata": {
    "id": "hA7pzRfYUL_h"
   },
   "source": [
    "# Programación al Servicio del Análisis con Visualización de Datos"
   ]
  },
  {
   "cell_type": "markdown",
   "metadata": {
    "id": "9QRlBqGyUOpE"
   },
   "source": [
    "## Importar las librerías a utilizar"
   ]
  },
  {
   "cell_type": "code",
   "execution_count": 3,
   "metadata": {
    "executionInfo": {
     "elapsed": 2039,
     "status": "ok",
     "timestamp": 1734450500176,
     "user": {
      "displayName": "AGUSTÍN EDUARDO FUENZALIDA VERGARA",
      "userId": "01358482526550659102"
     },
     "user_tz": 180
    },
    "id": "1ck4uCa-U7Ir"
   },
   "outputs": [],
   "source": [
    "# Respuesta:\n",
    "import pandas as pd\n",
    "import matplotlib.pyplot as plt\n",
    "import docx\n",
    "from docx.shared import  RGBColor, Pt, Cm\n",
    "from docx.enum.text import WD_ALIGN_PARAGRAPH"
   ]
  },
  {
   "cell_type": "markdown",
   "metadata": {
    "id": "gweCfCNiUFE_"
   },
   "source": [
    "## Cargar la fuente de información.\n",
    "\n",
    "\n"
   ]
  },
  {
   "cell_type": "code",
   "execution_count": 4,
   "metadata": {
    "colab": {
     "base_uri": "https://localhost:8080/",
     "height": 339
    },
    "executionInfo": {
     "elapsed": 5,
     "status": "error",
     "timestamp": 1734450500176,
     "user": {
      "displayName": "AGUSTÍN EDUARDO FUENZALIDA VERGARA",
      "userId": "01358482526550659102"
     },
     "user_tz": 180
    },
    "id": "BKZlq8jUU8S4",
    "outputId": "1c3e4a99-bfac-49d4-f888-c805e2f49978"
   },
   "outputs": [
    {
     "ename": "FileNotFoundError",
     "evalue": "[Errno 2] No such file or directory: '/content/produccion cobre por empresa.csv'",
     "output_type": "error",
     "traceback": [
      "\u001b[0;31m---------------------------------------------------------------------------\u001b[0m",
      "\u001b[0;31mFileNotFoundError\u001b[0m                         Traceback (most recent call last)",
      "\u001b[0;32m<ipython-input-4-b7d405d2f689>\u001b[0m in \u001b[0;36m<cell line: 6>\u001b[0;34m()\u001b[0m\n\u001b[1;32m      4\u001b[0m \u001b[0;34m\u001b[0m\u001b[0m\n\u001b[1;32m      5\u001b[0m \u001b[0;31m# Leer el archivo CSV\u001b[0m\u001b[0;34m\u001b[0m\u001b[0;34m\u001b[0m\u001b[0m\n\u001b[0;32m----> 6\u001b[0;31m \u001b[0mdf\u001b[0m \u001b[0;34m=\u001b[0m \u001b[0mpd\u001b[0m\u001b[0;34m.\u001b[0m\u001b[0mread_csv\u001b[0m\u001b[0;34m(\u001b[0m\u001b[0mRUTA_CSV\u001b[0m\u001b[0;34m)\u001b[0m\u001b[0;34m\u001b[0m\u001b[0;34m\u001b[0m\u001b[0m\n\u001b[0m\u001b[1;32m      7\u001b[0m \u001b[0mdf\u001b[0m\u001b[0;34m.\u001b[0m\u001b[0mdrop\u001b[0m\u001b[0;34m(\u001b[0m\u001b[0mcolumns\u001b[0m\u001b[0;34m=\u001b[0m\u001b[0;34m[\u001b[0m\u001b[0;34m'_id'\u001b[0m\u001b[0;34m]\u001b[0m\u001b[0;34m,\u001b[0m \u001b[0minplace\u001b[0m\u001b[0;34m=\u001b[0m\u001b[0;32mTrue\u001b[0m\u001b[0;34m)\u001b[0m\u001b[0;34m\u001b[0m\u001b[0;34m\u001b[0m\u001b[0m\n",
      "\u001b[0;32m/usr/local/lib/python3.10/dist-packages/pandas/io/parsers/readers.py\u001b[0m in \u001b[0;36mread_csv\u001b[0;34m(filepath_or_buffer, sep, delimiter, header, names, index_col, usecols, dtype, engine, converters, true_values, false_values, skipinitialspace, skiprows, skipfooter, nrows, na_values, keep_default_na, na_filter, verbose, skip_blank_lines, parse_dates, infer_datetime_format, keep_date_col, date_parser, date_format, dayfirst, cache_dates, iterator, chunksize, compression, thousands, decimal, lineterminator, quotechar, quoting, doublequote, escapechar, comment, encoding, encoding_errors, dialect, on_bad_lines, delim_whitespace, low_memory, memory_map, float_precision, storage_options, dtype_backend)\u001b[0m\n\u001b[1;32m   1024\u001b[0m     \u001b[0mkwds\u001b[0m\u001b[0;34m.\u001b[0m\u001b[0mupdate\u001b[0m\u001b[0;34m(\u001b[0m\u001b[0mkwds_defaults\u001b[0m\u001b[0;34m)\u001b[0m\u001b[0;34m\u001b[0m\u001b[0;34m\u001b[0m\u001b[0m\n\u001b[1;32m   1025\u001b[0m \u001b[0;34m\u001b[0m\u001b[0m\n\u001b[0;32m-> 1026\u001b[0;31m     \u001b[0;32mreturn\u001b[0m \u001b[0m_read\u001b[0m\u001b[0;34m(\u001b[0m\u001b[0mfilepath_or_buffer\u001b[0m\u001b[0;34m,\u001b[0m \u001b[0mkwds\u001b[0m\u001b[0;34m)\u001b[0m\u001b[0;34m\u001b[0m\u001b[0;34m\u001b[0m\u001b[0m\n\u001b[0m\u001b[1;32m   1027\u001b[0m \u001b[0;34m\u001b[0m\u001b[0m\n\u001b[1;32m   1028\u001b[0m \u001b[0;34m\u001b[0m\u001b[0m\n",
      "\u001b[0;32m/usr/local/lib/python3.10/dist-packages/pandas/io/parsers/readers.py\u001b[0m in \u001b[0;36m_read\u001b[0;34m(filepath_or_buffer, kwds)\u001b[0m\n\u001b[1;32m    618\u001b[0m \u001b[0;34m\u001b[0m\u001b[0m\n\u001b[1;32m    619\u001b[0m     \u001b[0;31m# Create the parser.\u001b[0m\u001b[0;34m\u001b[0m\u001b[0;34m\u001b[0m\u001b[0m\n\u001b[0;32m--> 620\u001b[0;31m     \u001b[0mparser\u001b[0m \u001b[0;34m=\u001b[0m \u001b[0mTextFileReader\u001b[0m\u001b[0;34m(\u001b[0m\u001b[0mfilepath_or_buffer\u001b[0m\u001b[0;34m,\u001b[0m \u001b[0;34m**\u001b[0m\u001b[0mkwds\u001b[0m\u001b[0;34m)\u001b[0m\u001b[0;34m\u001b[0m\u001b[0;34m\u001b[0m\u001b[0m\n\u001b[0m\u001b[1;32m    621\u001b[0m \u001b[0;34m\u001b[0m\u001b[0m\n\u001b[1;32m    622\u001b[0m     \u001b[0;32mif\u001b[0m \u001b[0mchunksize\u001b[0m \u001b[0;32mor\u001b[0m \u001b[0miterator\u001b[0m\u001b[0;34m:\u001b[0m\u001b[0;34m\u001b[0m\u001b[0;34m\u001b[0m\u001b[0m\n",
      "\u001b[0;32m/usr/local/lib/python3.10/dist-packages/pandas/io/parsers/readers.py\u001b[0m in \u001b[0;36m__init__\u001b[0;34m(self, f, engine, **kwds)\u001b[0m\n\u001b[1;32m   1618\u001b[0m \u001b[0;34m\u001b[0m\u001b[0m\n\u001b[1;32m   1619\u001b[0m         \u001b[0mself\u001b[0m\u001b[0;34m.\u001b[0m\u001b[0mhandles\u001b[0m\u001b[0;34m:\u001b[0m \u001b[0mIOHandles\u001b[0m \u001b[0;34m|\u001b[0m \u001b[0;32mNone\u001b[0m \u001b[0;34m=\u001b[0m \u001b[0;32mNone\u001b[0m\u001b[0;34m\u001b[0m\u001b[0;34m\u001b[0m\u001b[0m\n\u001b[0;32m-> 1620\u001b[0;31m         \u001b[0mself\u001b[0m\u001b[0;34m.\u001b[0m\u001b[0m_engine\u001b[0m \u001b[0;34m=\u001b[0m \u001b[0mself\u001b[0m\u001b[0;34m.\u001b[0m\u001b[0m_make_engine\u001b[0m\u001b[0;34m(\u001b[0m\u001b[0mf\u001b[0m\u001b[0;34m,\u001b[0m \u001b[0mself\u001b[0m\u001b[0;34m.\u001b[0m\u001b[0mengine\u001b[0m\u001b[0;34m)\u001b[0m\u001b[0;34m\u001b[0m\u001b[0;34m\u001b[0m\u001b[0m\n\u001b[0m\u001b[1;32m   1621\u001b[0m \u001b[0;34m\u001b[0m\u001b[0m\n\u001b[1;32m   1622\u001b[0m     \u001b[0;32mdef\u001b[0m \u001b[0mclose\u001b[0m\u001b[0;34m(\u001b[0m\u001b[0mself\u001b[0m\u001b[0;34m)\u001b[0m \u001b[0;34m->\u001b[0m \u001b[0;32mNone\u001b[0m\u001b[0;34m:\u001b[0m\u001b[0;34m\u001b[0m\u001b[0;34m\u001b[0m\u001b[0m\n",
      "\u001b[0;32m/usr/local/lib/python3.10/dist-packages/pandas/io/parsers/readers.py\u001b[0m in \u001b[0;36m_make_engine\u001b[0;34m(self, f, engine)\u001b[0m\n\u001b[1;32m   1878\u001b[0m                 \u001b[0;32mif\u001b[0m \u001b[0;34m\"b\"\u001b[0m \u001b[0;32mnot\u001b[0m \u001b[0;32min\u001b[0m \u001b[0mmode\u001b[0m\u001b[0;34m:\u001b[0m\u001b[0;34m\u001b[0m\u001b[0;34m\u001b[0m\u001b[0m\n\u001b[1;32m   1879\u001b[0m                     \u001b[0mmode\u001b[0m \u001b[0;34m+=\u001b[0m \u001b[0;34m\"b\"\u001b[0m\u001b[0;34m\u001b[0m\u001b[0;34m\u001b[0m\u001b[0m\n\u001b[0;32m-> 1880\u001b[0;31m             self.handles = get_handle(\n\u001b[0m\u001b[1;32m   1881\u001b[0m                 \u001b[0mf\u001b[0m\u001b[0;34m,\u001b[0m\u001b[0;34m\u001b[0m\u001b[0;34m\u001b[0m\u001b[0m\n\u001b[1;32m   1882\u001b[0m                 \u001b[0mmode\u001b[0m\u001b[0;34m,\u001b[0m\u001b[0;34m\u001b[0m\u001b[0;34m\u001b[0m\u001b[0m\n",
      "\u001b[0;32m/usr/local/lib/python3.10/dist-packages/pandas/io/common.py\u001b[0m in \u001b[0;36mget_handle\u001b[0;34m(path_or_buf, mode, encoding, compression, memory_map, is_text, errors, storage_options)\u001b[0m\n\u001b[1;32m    871\u001b[0m         \u001b[0;32mif\u001b[0m \u001b[0mioargs\u001b[0m\u001b[0;34m.\u001b[0m\u001b[0mencoding\u001b[0m \u001b[0;32mand\u001b[0m \u001b[0;34m\"b\"\u001b[0m \u001b[0;32mnot\u001b[0m \u001b[0;32min\u001b[0m \u001b[0mioargs\u001b[0m\u001b[0;34m.\u001b[0m\u001b[0mmode\u001b[0m\u001b[0;34m:\u001b[0m\u001b[0;34m\u001b[0m\u001b[0;34m\u001b[0m\u001b[0m\n\u001b[1;32m    872\u001b[0m             \u001b[0;31m# Encoding\u001b[0m\u001b[0;34m\u001b[0m\u001b[0;34m\u001b[0m\u001b[0m\n\u001b[0;32m--> 873\u001b[0;31m             handle = open(\n\u001b[0m\u001b[1;32m    874\u001b[0m                 \u001b[0mhandle\u001b[0m\u001b[0;34m,\u001b[0m\u001b[0;34m\u001b[0m\u001b[0;34m\u001b[0m\u001b[0m\n\u001b[1;32m    875\u001b[0m                 \u001b[0mioargs\u001b[0m\u001b[0;34m.\u001b[0m\u001b[0mmode\u001b[0m\u001b[0;34m,\u001b[0m\u001b[0;34m\u001b[0m\u001b[0;34m\u001b[0m\u001b[0m\n",
      "\u001b[0;31mFileNotFoundError\u001b[0m: [Errno 2] No such file or directory: '/content/produccion cobre por empresa.csv'"
     ]
    }
   ],
   "source": [
    "# Ruta del archivo CSV\n",
    "RUTA_CSV = '/content/produccion cobre por empresa.csv'\n",
    "\n",
    "\n",
    "# Leer el archivo CSV\n",
    "df = pd.read_csv(RUTA_CSV)\n",
    "df.drop(columns=['_id'], inplace=True)\n"
   ]
  },
  {
   "cell_type": "markdown",
   "metadata": {
    "id": "q043A-77UVB8"
   },
   "source": [
    "## Realizar gráfico de Barras Verticales\n",
    "cabe señalar que el set de datos que se eligió es un archivo CSV, el cual no está ordenado y tampoco limpio, por lo cual en cada grafico que se quiere realizar, se limpia y ordena según la necesidad. Esto se puede apreciar entre los datos del 2017 y 2018, donde cambian el tipo de estructura de dato (2017=925.4----2018=1.242,70)\n",
    "\n",
    "\n",
    "## primero visualizamos el set de datos, e identificamos que la minera Escondida es la que produjo mayor cobre el 2018.\n",
    "* según esto realizamos nuestro grafico de barras en base a esta minera.\n"
   ]
  },
  {
   "cell_type": "code",
   "execution_count": null,
   "metadata": {
    "executionInfo": {
     "elapsed": 4,
     "status": "aborted",
     "timestamp": 1734450500176,
     "user": {
      "displayName": "AGUSTÍN EDUARDO FUENZALIDA VERGARA",
      "userId": "01358482526550659102"
     },
     "user_tz": 180
    },
    "id": "PySnT5b_groc"
   },
   "outputs": [],
   "source": [
    "df.head(50)"
   ]
  },
  {
   "cell_type": "code",
   "execution_count": null,
   "metadata": {
    "executionInfo": {
     "elapsed": 4,
     "status": "aborted",
     "timestamp": 1734450500176,
     "user": {
      "displayName": "AGUSTÍN EDUARDO FUENZALIDA VERGARA",
      "userId": "01358482526550659102"
     },
     "user_tz": 180
    },
    "id": "G4saRk6mU8Ws"
   },
   "outputs": [],
   "source": [
    "# Respuesta:\n",
    "\n",
    "# Seleccionar la fila donde 'POR EMPRESAS / By Company' es 'Escondida'\n",
    "selected_row = df[df['POR  EMPRESAS / By Company'] == 'Escondida'].iloc[0]\n",
    "\n",
    "# Crear un nuevo dataframe con los nombres de las columnas y los valores de la fila seleccionada\n",
    "new_df = pd.DataFrame({\n",
    "    'Año': df.columns[1:],  # Excluir la primera columna que es 'POR EMPRESAS / By Company'\n",
    "    'Escondida': selected_row.values[1:]  # Excluir el primer valor que es el nombre de la empresa\n",
    "})\n",
    "\n",
    "# Convertir la columna 'Escondida' a str\n",
    "new_df['Escondida'] = new_df['Escondida'].astype(str)\n",
    "\n",
    "# Función para eliminar el último dígito de los números que tienen un punto pero no una coma\n",
    "def modify_number(value):\n",
    "    if isinstance(value, str) and '.' in value and ',' not in value:\n",
    "        return value[:-2]  # Eliminar el último dígito\n",
    "    return value\n",
    "\n",
    "# Aplicar la función a la columna 'Escondida'\n",
    "new_df['Escondida'] = new_df['Escondida'].apply(modify_number)\n",
    "\n",
    "# Función para modificar el último número de la fila 2018\n",
    "def modify_number2(value):\n",
    "    if isinstance(value, str) and '.' in value and ',' in value:\n",
    "        return value[:-3]  # Eliminar el último dígito\n",
    "    return value\n",
    "\n",
    "# Aplicar la función a la columna 'Escondida'\n",
    "new_df['Escondida'] = new_df['Escondida'].apply(modify_number2)\n",
    "\n",
    "\n",
    "# Cambiar nuestro set de datos ordenados y limpios a flotante\n",
    "new_df['Escondida'] = new_df['Escondida'].str.replace('.', '').astype(float)\n",
    "\n",
    "# Ordenar el DataFrame por año\n",
    "new_df = new_df.sort_values(by='Año')\n",
    "\n",
    "# Crear el gráfico de barras\n",
    "plt.figure(figsize=(14, 8))\n",
    "new_df.set_index('Año')['Escondida'].plot(kind='bar')\n",
    "plt.title('Producción de cobre de la minera Escondida')\n",
    "plt.xlabel('Año')\n",
    "plt.ylabel('Cantidad de cobre por toneladas')\n",
    "plt.tight_layout()\n",
    "plt.savefig('vertical.png',format='png')\n",
    "plt.show()\n"
   ]
  },
  {
   "cell_type": "markdown",
   "metadata": {
    "id": "FKUVmKBVY4Es"
   },
   "source": [
    "## Realizar gráfico de Barras Horizontal\n",
    "* ahora visualizamos que la siguiente minera que prdujo mas cobre el 2018 fue la divusion chuquicamata"
   ]
  },
  {
   "cell_type": "code",
   "execution_count": null,
   "metadata": {
    "executionInfo": {
     "elapsed": 4,
     "status": "aborted",
     "timestamp": 1734450500176,
     "user": {
      "displayName": "AGUSTÍN EDUARDO FUENZALIDA VERGARA",
      "userId": "01358482526550659102"
     },
     "user_tz": 180
    },
    "id": "-pQE0DANY4aC"
   },
   "outputs": [],
   "source": [
    "# Respuesta:\n",
    "\n",
    "# Respuesta:\n",
    "# Ruta del archivo CSV\n",
    "RUTA_CSV = '/content/produccion cobre por empresa.csv'\n",
    "\n",
    "\n",
    "# Leer el archivo\n",
    "df2 = pd.read_csv(RUTA_CSV)\n",
    "df2.drop(columns=['_id'], inplace=True)\n",
    "\n",
    "# Seleccionar la columna 'POR EMPRESAS / By Company' y '2007'\n",
    "columna_2007 = df2.loc[:, ['POR  EMPRESAS / By Company', '2007']]\n",
    "\n",
    "# Convertir la columna '2007' a str\n",
    "columna_2007['2007'] = columna_2007['2007'].astype(str)\n",
    "\n",
    "# Función para eliminar el último dígito de los números que tienen un punto pero no una coma\n",
    "def modify_number(value):\n",
    "    if isinstance(value, str) and '.' in value and ',' not in value:\n",
    "        return value[:-2]  # Eliminar el último dígito\n",
    "    return value\n",
    "\n",
    "# Aplicar la función a la columna '2007'\n",
    "columna_2007['2007'] = columna_2007['2007'].apply(modify_number)\n",
    "\n",
    "# Función para convertir valores con '-' a 0\n",
    "def modify_number2(value):\n",
    "    if isinstance(value, str) and '-' in value:\n",
    "        return 0\n",
    "    return value\n",
    "\n",
    "# Aplicar la función a la columna '2007'\n",
    "columna_2007['2007'] = columna_2007['2007'].apply(modify_number2)\n",
    "\n",
    "# Cambiar nuestro set de datos ordenados y limpios a flotante\n",
    "columna_2007['2007'] = columna_2007['2007'].str.replace('.', '').astype(float)\n",
    "\n",
    "# Eliminar las filas donde el valor de '2007' es 0 o NaN\n",
    "columna_2007 = columna_2007[columna_2007['2007'] != 0]\n",
    "columna_2007 = columna_2007.dropna(subset=['2007'])\n",
    "# Eliminar la última fila del DataFrame resultante\n",
    "columna_2007 = columna_2007.iloc[:-1]\n",
    "\n",
    "# Crear el gráfico de barras horizontal\n",
    "plt.figure(figsize=(14, 8))\n",
    "columna_2007.set_index('POR  EMPRESAS / By Company')['2007'].sort_values().plot(kind='barh')\n",
    "plt.title('Producción de cobre por empresa en 2007')\n",
    "plt.xlabel('Producción (Miles de TM de cobre fino)')\n",
    "plt.ylabel('Mineras')\n",
    "plt.tight_layout()\n",
    "plt.savefig('horizontal.png',format='png')\n",
    "plt.show()\n",
    "\n"
   ]
  },
  {
   "cell_type": "markdown",
   "metadata": {
    "id": "qnxImoVPUVE4"
   },
   "source": [
    "## Realizar gráfico de Lineas\n",
    "\n",
    "* segun lo anterior visualizamos la produccion de la mina chuquicamata durante los años\n"
   ]
  },
  {
   "cell_type": "code",
   "execution_count": null,
   "metadata": {
    "executionInfo": {
     "elapsed": 4,
     "status": "aborted",
     "timestamp": 1734450500176,
     "user": {
      "displayName": "AGUSTÍN EDUARDO FUENZALIDA VERGARA",
      "userId": "01358482526550659102"
     },
     "user_tz": 180
    },
    "id": "xoeE6Ql_U8ZV"
   },
   "outputs": [],
   "source": [
    "# Respuesta:\n",
    "# Ruta del archivo CSV\n",
    "RUTA_CSV = '/content/produccion cobre por empresa.csv'\n",
    "\n",
    "\n",
    "# Leer el archivo CSV\n",
    "df = pd.read_csv(RUTA_CSV)\n",
    "df.drop(columns=['_id'], inplace=True)\n",
    "\n",
    "# Seleccionar la fila donde 'POR EMPRESAS / By Company' es 'Escondida'\n",
    "selected_row = df[df['POR  EMPRESAS / By Company'] == 'División Chuquicamata (2)'].iloc[0]\n",
    "\n",
    "# Crear un nuevo dataframe con los nombres de las columnas y los valores de la fila seleccionada\n",
    "new_df_2 = pd.DataFrame({\n",
    "    'Año': df.columns[1:],  # Excluir la primera columna que es 'POR EMPRESAS / By Company'\n",
    "    'División Chuquicamata (2)': selected_row.values[1:]  # Excluir el primer valor que es el nombre de la empresa\n",
    "})\n",
    "# Convertir la columna 'Escondida' a str\n",
    "new_df_2['División Chuquicamata (2)'] = new_df_2['División Chuquicamata (2)'].astype(str)\n",
    "# Cambiar nuestro set de datos ordenados y limpios a flotante\n",
    "new_df_2['División Chuquicamata (2)'] = new_df_2['División Chuquicamata (2)'].str.replace('.', ',')\n",
    "new_df_2['División Chuquicamata (2)'] = new_df_2['División Chuquicamata (2)'].str.replace(',', '.').astype(float)\n",
    "\n",
    "# Ordenar el DataFrame por año\n",
    "new_df_2 = new_df_2.sort_values(by='Año')\n",
    "\n",
    "# Crear el gráfico de líneas\n",
    "plt.figure(figsize=(10, 6))\n",
    "plt.plot(new_df_2['Año'], new_df_2['División Chuquicamata (2)'], marker='o', linestyle='-', color='r')\n",
    "\n",
    "# Añadir título y etiquetas\n",
    "plt.title('produccion de cobre de la mina chuquicamata')\n",
    "plt.xlabel('Año')\n",
    "plt.ylabel('Toneladas')\n",
    "\n",
    "# Mostrar el gráfico\n",
    "plt.grid(True)\n",
    "plt.tight_layout()\n",
    "plt.savefig('linea.png',format='png')\n",
    "plt.show()"
   ]
  },
  {
   "cell_type": "markdown",
   "metadata": {
    "id": "SEnz-BPfUU_e"
   },
   "source": [
    "## Realizar gráfico de Lineas de Doble Eje\n",
    "* y finalmente comparamos la produccion de las dos mineras durante los años."
   ]
  },
  {
   "cell_type": "code",
   "execution_count": null,
   "metadata": {
    "executionInfo": {
     "elapsed": 4,
     "status": "aborted",
     "timestamp": 1734450500176,
     "user": {
      "displayName": "AGUSTÍN EDUARDO FUENZALIDA VERGARA",
      "userId": "01358482526550659102"
     },
     "user_tz": 180
    },
    "id": "xeTXPsn9U8b6"
   },
   "outputs": [],
   "source": [
    "# Ruta del archivo CSV\n",
    "RUTA_CSV = '/content/produccion cobre por empresa.csv'\n",
    "\n",
    "# Leer el archivo CSV\n",
    "df = pd.read_csv(RUTA_CSV)\n",
    "df.drop(columns=['_id'], inplace=True)\n",
    "# Ruta del archivo CSV\n",
    "RUTA_CSV = '/content/produccion cobre por empresa.csv'\n",
    "\n",
    "\n",
    "\n",
    "# Seleccionar las filas donde 'POR EMPRESAS / By Company' es 'División Chuquicamata (2)' o 'Escondida'\n",
    "selected_rows = df[df['POR  EMPRESAS / By Company'].isin(['División Chuquicamata (2)', 'Escondida'])]\n",
    "\n",
    "# Crear un nuevo dataframe con los nombres de las columnas y los valores de las filas seleccionadas\n",
    "new_df_3 = pd.DataFrame({\n",
    "    'Año': df.columns[1:],  # Excluir la primera columna que es 'POR EMPRESAS / By Company'\n",
    "    'División Chuquicamata (2)': selected_rows[selected_rows['POR  EMPRESAS / By Company'] == 'División Chuquicamata (2)'].values[0][1:],  # Excluir el primer valor que es el nombre de la empresa\n",
    "    'Escondida': selected_rows[selected_rows['POR  EMPRESAS / By Company'] == 'Escondida'].values[0][1:]  # Excluir el primer valor que es el nombre de la empresa\n",
    "})\n",
    "\n",
    "# Convertir las columnas a str\n",
    "new_df_3['División Chuquicamata (2)'] = new_df_3['División Chuquicamata (2)'].astype(str)\n",
    "new_df_3['Escondida'] = new_df_3['Escondida'].astype(str)\n",
    "\n",
    "# Cambiar nuestro set de datos ordenados y limpios a flotante\n",
    "#new_df_3['División Chuquicamata (2)'] = new_df_3['División Chuquicamata (2)'].str.replace(',', '.').astype(float)\n",
    "\n",
    "# Función para reemplazar la coma en los valores que tienen un punto y una coma\n",
    "def modify_number(value):\n",
    "    if isinstance(value, str) and '.' in value and ',' in value:\n",
    "        return value.replace('.', '')  # Reemplazar la coma por nada\n",
    "    return value\n",
    "\n",
    "# Aplicar la función a la columna 'Escondida'\n",
    "new_df_3['Escondida'] = new_df_3['Escondida'].apply(modify_number)\n",
    "\n",
    "\n",
    "\n",
    "new_df_3['División Chuquicamata (2)'] = new_df_3['División Chuquicamata (2)'].str.replace(',', '.').astype(float)\n",
    "new_df_3['Escondida'] = new_df_3['Escondida'].str.replace(',', '.').astype(float)\n",
    "\n",
    "# Ordenar el DataFrame por año\n",
    "new_df_3 = new_df_3.sort_values(by='Año')\n",
    "\n",
    "\n",
    "# Crear el gráfico de líneas doble\n",
    "fig, ax1 = plt.subplots(figsize=(10, 6))\n",
    "\n",
    "# Graficar Escondida\n",
    "ax1.plot(new_df_3['Año'], new_df_3['Escondida'],marker='o', linestyle='-', color='b', label='Escondida')\n",
    "ax1.set_xlabel('Año')\n",
    "ax1.set_ylabel('Escondida', color='b')\n",
    "ax1.tick_params(axis='x', rotation=45)  # Rotar las etiquetas del eje X para mejor legibilidad\n",
    "\n",
    "# Crear un segundo eje Y para División Chuquicamata (2)\n",
    "ax2 = ax1.twinx()\n",
    "ax2.plot(new_df_3['Año'], new_df_3['División Chuquicamata (2)'],marker='o', linestyle='-', color='r', label='División Chuquicamata (2)')\n",
    "ax2.set_ylabel('División Chuquicamata (2)', color='r')\n",
    "\n",
    "# Añadir título y etiquetas\n",
    "plt.title('Producción de cobre: Escondida vs División Chuquicamata (2)')\n",
    "\n",
    "# Mostrar el gráfico\n",
    "plt.grid(True)\n",
    "plt.tight_layout()\n",
    "plt.savefig('doble.png',format='png')\n",
    "plt.show()\n"
   ]
  },
  {
   "cell_type": "markdown",
   "metadata": {
    "id": "NkYcz20pUU8z"
   },
   "source": [
    "## Realizar gráfico BoxPlot\n",
    "\n",
    "Debe identificar datos atípicos\n",
    "\n",
    "* al tener nuestro set de datos limpio, nuestro boxplot no va a identifacr datos atipicos.\n",
    "* al estar los datos no  limpios, no ordenados y no bien formateados, este grafico no se puede aplicar, ya que, en varias los formatos de cada dato no estan bien escritos usando comas y puntos, creando un set de datos no uniforme.\n"
   ]
  },
  {
   "cell_type": "code",
   "execution_count": null,
   "metadata": {
    "executionInfo": {
     "elapsed": 3,
     "status": "aborted",
     "timestamp": 1734450500176,
     "user": {
      "displayName": "AGUSTÍN EDUARDO FUENZALIDA VERGARA",
      "userId": "01358482526550659102"
     },
     "user_tz": 180
    },
    "id": "ToNcmKbDU8gW"
   },
   "outputs": [],
   "source": [
    "# Respuesta:\n",
    "# Seleccionar las filas donde 'POR EMPRESAS / By Company' es 'División Chuquicamata (2)' o 'Escondida'\n",
    "selected_rows = df[df['POR  EMPRESAS / By Company'].isin(['División Chuquicamata (2)', 'Escondida','Anglo American Sur','División El Teniente','Collahuasi'])]\n",
    "\n",
    "# Crear un nuevo dataframe con los nombres de las columnas y los valores de las filas seleccionadas\n",
    "new_df_4 = pd.DataFrame({\n",
    "    'Año': df.columns[1:],  # Excluir la primera columna que es 'POR EMPRESAS / By Company'\n",
    "    'División Chuquicamata (2)': selected_rows[selected_rows['POR  EMPRESAS / By Company'] == 'División Chuquicamata (2)'].values[0][1:],  # Excluir el primer valor que es el nombre de la empresa\n",
    "    'Escondida': selected_rows[selected_rows['POR  EMPRESAS / By Company'] == 'Escondida'].values[0][1:],  # Excluir el primer valor que es el nombre de la empresa\n",
    "    'Anglo American Sur': selected_rows[selected_rows['POR  EMPRESAS / By Company'] == 'Anglo American Sur'].values[0][1:],  # Excluir el primer valor que es el nombre de la empresa\n",
    "    'División El Teniente': selected_rows[selected_rows['POR  EMPRESAS / By Company'] == 'División El Teniente'].values[0][1:],  # Excluir el primer valor que es el nombre de la empresa\n",
    "    'Collahuasi': selected_rows[selected_rows['POR  EMPRESAS / By Company'] == 'Collahuasi'].values[0][1:]  # Excluir el primer valor que es el nombre de la empresa\n",
    "})\n",
    "# Función para reemplazar la coma en los valores que tienen un punto y una coma\n",
    "def modify_number(value):\n",
    "    if isinstance(value, str) and '.' in value and ',' in value:\n",
    "        return value.replace('.', '')  # Reemplazar la coma por nada\n",
    "    return value\n",
    "\n",
    "# Aplicar este orden para no perder datos y limpiar (ya que existen float, str)\n",
    "new_df_4['Escondida'] = new_df_4['Escondida'].apply(modify_number)\n",
    "new_df_4['Escondida'] = new_df_4['Escondida'].astype(str)\n",
    "new_df_4['Escondida'] = new_df_4['Escondida'].str.replace(',', '.')\n",
    "new_df_4['Escondida'] = new_df_4['Escondida'].astype(float)\n",
    "# Aplicar este orden para no perder datos y limpiar (ya que existen float, str)\n",
    "new_df_4['División Chuquicamata (2)'] = new_df_4['División Chuquicamata (2)'].apply(modify_number)\n",
    "new_df_4['División Chuquicamata (2)'] = new_df_4['División Chuquicamata (2)'].astype(str)\n",
    "new_df_4['División Chuquicamata (2)'] = new_df_4['División Chuquicamata (2)'].str.replace(',', '.')\n",
    "new_df_4['División Chuquicamata (2)'] = new_df_4['División Chuquicamata (2)'].astype(float)\n",
    "# Aplicar este orden para no perder datos y limpiar (ya que existen float, str)\n",
    "new_df_4['Anglo American Sur'] = new_df_4['Anglo American Sur'].apply(modify_number)\n",
    "new_df_4['Anglo American Sur'] = new_df_4['Anglo American Sur'].astype(str)\n",
    "new_df_4['Anglo American Sur'] = new_df_4['Anglo American Sur'].str.replace(',', '.')\n",
    "new_df_4['Anglo American Sur'] = new_df_4['Anglo American Sur'].astype(float)\n",
    "# Aplicar este orden para no perder datos y limpiar (ya que existen float, str)\n",
    "new_df_4['División El Teniente'] = new_df_4['División El Teniente'].apply(modify_number)\n",
    "new_df_4['División El Teniente'] = new_df_4['División El Teniente'].astype(str)\n",
    "new_df_4['División El Teniente'] = new_df_4['División El Teniente'].str.replace(',', '.')\n",
    "new_df_4['División El Teniente'] = new_df_4['División El Teniente'].str.replace('-', '0')\n",
    "new_df_4['División El Teniente'] = new_df_4['División El Teniente'].astype(float)\n",
    "# Aplicar este orden para no perder datos y limpiar (ya que existen float, str)\n",
    "new_df_4['Collahuasi'] = new_df_4['Collahuasi'].apply(modify_number)\n",
    "new_df_4['Collahuasi'] = new_df_4['Collahuasi'].astype(str)\n",
    "new_df_4['Collahuasi'] = new_df_4['Collahuasi'].str.replace(',', '.')\n",
    "new_df_4['Collahuasi'] = new_df_4['Collahuasi'].str.replace('-', '0')\n",
    "new_df_4['Collahuasi'] = new_df_4['Collahuasi'].astype(float)\n",
    "# Crear el boxplot\n",
    "plt.figure(figsize=(10, 6))\n",
    "plt.boxplot([new_df_4['Collahuasi'], new_df_4['División El Teniente'], new_df_4['Anglo American Sur' ],new_df_4['División Chuquicamata (2)' ],new_df_4['Escondida' ] ], labels=['Collahuasi', 'Div. El Teniente','Anglo American Sur','Div. Chuquicamata','Escondida'])\n",
    "plt.title('Boxplot de Producción de Cobre')\n",
    "plt.ylabel('Producción de Cobre (toneladas)')\n",
    "plt.savefig('boxplot.png',format='png')\n",
    "plt.grid(True)\n",
    "plt.show()"
   ]
  },
  {
   "cell_type": "markdown",
   "metadata": {
    "id": "L3rURUVlUU6G"
   },
   "source": [
    "## Realizar un reporte automático en Word (Usar Python docx)\n",
    "\n",
    "**Instrucciones:**\n",
    "*   Máximo 2 hojas.\n",
    "*   Presentar la motivación de su estudio y explicar cuál es la relevancia de su análisis.\n",
    "*   Mostrar los gráficos realizados (interpretar cada gráfico).\n",
    "*   Debe tener una conclusion final.\n"
   ]
  },
  {
   "cell_type": "code",
   "execution_count": null,
   "metadata": {
    "executionInfo": {
     "elapsed": 3,
     "status": "aborted",
     "timestamp": 1734450500176,
     "user": {
      "displayName": "AGUSTÍN EDUARDO FUENZALIDA VERGARA",
      "userId": "01358482526550659102"
     },
     "user_tz": 180
    },
    "id": "6wkAX0sUYnQo"
   },
   "outputs": [],
   "source": [
    "# Crear un nuevo documento\n",
    "doc = docx.Document()\n",
    "\n",
    "# Acceder a la primera sección del documento\n",
    "section = doc.sections[0]\n",
    "\n",
    "# Imprimir la sección\n",
    "print(section)\n",
    "\n",
    "# Encabezado\n",
    "header = section.header\n",
    "ruta_logo = '/content/images.png'\n",
    "header.paragraphs[0].add_run().add_picture(ruta_logo, width=Cm(1.6), height=Cm(1.6))\n",
    "header.paragraphs[0].alignment = WD_ALIGN_PARAGRAPH.RIGHT\n",
    "\n",
    "# Función para formatear párrafos\n",
    "def formato_doc(t=' ', style=None, a=0, r=0, b=False, i=False, u=False, rgb=RGBColor(0, 0, 0), l='Arial', s=11):\n",
    "    p = doc.add_paragraph(t, style=style)\n",
    "    p.alignment = a\n",
    "    p.runs[r].bold = b\n",
    "    p.runs[r].italic = i\n",
    "    p.runs[r].underline = u\n",
    "    p.runs[r].font.color.rgb = rgb\n",
    "    p.runs[r].font.name = l\n",
    "    p.runs[r].font.size = Pt(s)\n",
    "\n",
    "# Crear la portada del documento\n",
    "# Añadir múltiples saltos de línea dentro del mismo párrafo\n",
    "formato_doc(' ', a=WD_ALIGN_PARAGRAPH.CENTER, b=True, s=16, rgb=RGBColor(0, 32, 96))\n",
    "formato_doc(' ', a=WD_ALIGN_PARAGRAPH.CENTER, b=True, s=16, rgb=RGBColor(0, 32, 96))\n",
    "formato_doc(' ', a=WD_ALIGN_PARAGRAPH.CENTER, b=True, s=16, rgb=RGBColor(0, 32, 96))\n",
    "formato_doc(' ', a=WD_ALIGN_PARAGRAPH.CENTER, b=True, s=16, rgb=RGBColor(0, 32, 96))\n",
    "formato_doc(' ', a=WD_ALIGN_PARAGRAPH.CENTER, b=True, s=16, rgb=RGBColor(0, 32, 96))\n",
    "formato_doc(' ', a=WD_ALIGN_PARAGRAPH.CENTER, b=True, s=16, rgb=RGBColor(0, 32, 96))\n",
    "formato_doc('PRODUCCIÓN DE COBRE EN MINERAS CHILENAS\\n', a=WD_ALIGN_PARAGRAPH.CENTER, b=True, s=16, rgb=RGBColor(0, 32, 96))\n",
    "# Añadir múltiples saltos de línea dentro del mismo párrafo\n",
    "\n",
    "formato_doc('INGENIERÍA EN COMPUTACIÓN E INFORMÁTICA\\n', a=WD_ALIGN_PARAGRAPH.CENTER, s=14,rgb=RGBColor(0, 32, 96))\n",
    "# Añadir múltiples saltos de línea dentro del mismo párrafo\n",
    "\n",
    "formato_doc('PROGRAMACIÓN APLICADA EN ANÁLISIS DE DATOS\\n', a=WD_ALIGN_PARAGRAPH.CENTER, s=14,rgb=RGBColor(0, 32, 96))\n",
    "# Añadir múltiples saltos de línea dentro del mismo párrafo\n",
    "\n",
    "formato_doc(' ', a=WD_ALIGN_PARAGRAPH.CENTER, b=True, s=16, rgb=RGBColor(0, 32, 96))\n",
    "formato_doc(' ', a=WD_ALIGN_PARAGRAPH.CENTER, b=True, s=16, rgb=RGBColor(0, 32, 96))\n",
    "formato_doc(' ', a=WD_ALIGN_PARAGRAPH.CENTER, b=True, s=16, rgb=RGBColor(0, 32, 96))\n",
    "formato_doc(' ', a=WD_ALIGN_PARAGRAPH.CENTER, b=True, s=16, rgb=RGBColor(0, 32, 96))\n",
    "formato_doc(' ', a=WD_ALIGN_PARAGRAPH.CENTER, b=True, s=16, rgb=RGBColor(0, 32, 96))\n",
    "formato_doc('Informe de Análisis de Datos\\n', a=WD_ALIGN_PARAGRAPH.CENTER, s=14)\n",
    "# Añadir múltiples saltos de línea dentro del mismo párrafo\n",
    "formato_doc(' ', a=WD_ALIGN_PARAGRAPH.CENTER, b=True, s=16, rgb=RGBColor(0, 32, 96))\n",
    "formato_doc(' ', a=WD_ALIGN_PARAGRAPH.CENTER, b=True, s=16, rgb=RGBColor(0, 32, 96))\n",
    "formato_doc(' ', a=WD_ALIGN_PARAGRAPH.CENTER, b=True, s=16, rgb=RGBColor(0, 32, 96))\n",
    "formato_doc(' ', a=WD_ALIGN_PARAGRAPH.CENTER, b=True, s=16, rgb=RGBColor(0, 32, 96))\n",
    "formato_doc(' ', a=WD_ALIGN_PARAGRAPH.CENTER, b=True, s=16, rgb=RGBColor(0, 32, 96))\n",
    "formato_doc('Nombre de los Estudiantes: Eduardo Jaque, Agustín  Fuenzalida', a=0, s=12)\n",
    "# Añadir múltiples saltos de línea dentro del mismo párrafo\n",
    "\n",
    "formato_doc('Fecha: 16DIC2024', a=0, s=12)\n",
    "\n",
    "# Añadir un salto de página después de la portada\n",
    "doc.add_page_break()\n",
    "\n",
    "# Ejemplo de uso de la función para agregar y formatear un párrafo\n",
    "formato_doc('Producción de cobre en mineras chilenas', a=WD_ALIGN_PARAGRAPH.CENTER, b=True, s=14, rgb=RGBColor(0, 32, 96))\n",
    "\n",
    "formato_doc('introducción', a=WD_ALIGN_PARAGRAPH.CENTER, b=True, s=11, rgb=RGBColor(0, 32, 96))\n",
    "\n",
    "texto_parrafo = 'En este informe vamos a trabajar con un set de datos perteneciente a la producción de cobre fino por año, en donde se tomaron las muestras de 34 mineras desde 1998 hasta el 2018.'\n",
    "formato_doc(texto_parrafo, a=3, s=11, style='List Bullet')\n",
    "texto_parrafo = 'Cabe resaltar que este set de datos se encuentra en un archivo CSV. el cual posee datos en diferentes formatos. Esto se puede apreciar entre los datos del 2017 y 2018, donde cambian el tipo de estructura de dato (2017=925.4----2018=1.242,70), además de datos nulos que representan el cierre de las mineras y tipos de datos float integer y str.'\n",
    "formato_doc(texto_parrafo, a=3, s=11, style='List Bullet')\n",
    "imagen = doc.add_picture('/content/boxplot.png', width=Cm(14), height=Cm(5))\n",
    "doc.paragraphs[-1].alignment = WD_ALIGN_PARAGRAPH.CENTER\n",
    "texto_parrafo = 'En nuestro análisis del grafico Boxplot, el cual usaremos para identificar datos atípicos, podeos evidenciar que la minera Collahuasi posee datos atípicos. Para bien de este documento, esto no influirá en nuestro análisis ya que usaremos las mineras Escondida y Chuquicamata'\n",
    "formato_doc(texto_parrafo, a=3, s=11, style='List Bullet')\n",
    "imagen = doc.add_picture('/content/vertical.png', width=Cm(14), height=Cm(5))\n",
    "doc.paragraphs[-1].alignment = WD_ALIGN_PARAGRAPH.CENTER\n",
    "texto_parrafo = 'Con este primer grafico podemos ver la producción de cobre que tuvo la minera Escondida, en el cual se resaltan los años 2007 con una gran producción de cobre fino.'\n",
    "formato_doc(texto_parrafo, a=3, s=11, style='List Bullet')\n",
    "\n",
    "# hoja dos\n",
    "doc.add_page_break()\n",
    "# Pie de página\n",
    "footer = section.footer\n",
    "footer.paragraphs[0].text = \"PROGRAM. APLICADA EN ANÁLISIS DE DATOS\"\n",
    "footer.paragraphs[0].alignment = WD_ALIGN_PARAGRAPH.CENTER\n",
    "\n",
    "imagen = doc.add_picture('/content/horizontal.png', width=Cm(14), height=Cm(6))\n",
    "doc.paragraphs[-1].alignment = WD_ALIGN_PARAGRAPH.CENTER\n",
    "texto_parrafo = 'Consecuente con lo anterior, vamos a identificar la minera que sigue con una mayor producción de cobre fino el año 2007, para confrontarla en gráficos posteriores. Como resultado tenemos que la minera de Chuquicamata es la segunda en producir más cobre fino durante el año 2007.'\n",
    "formato_doc(texto_parrafo, a=3, s=11, style='List Bullet')\n",
    "imagen = doc.add_picture('/content/linea.png', width=Cm(14), height=Cm(6))\n",
    "doc.paragraphs[-1].alignment = WD_ALIGN_PARAGRAPH.CENTER\n",
    "texto_parrafo = 'Ahora, realizamos un gráfico de línea, con el objetivo de ver la producción de cobre de la minera de Chuquicamata, desde el año 1998 hasta el 2018, evidenciando que en el 2004 fue la mayor producción de cobre. para dicha minera, empezando a caer fuertemente el 2007 con la producción de cobre, con algunas recuperaciones el 2009 pero siguiendo en decadencia.'\n",
    "formato_doc(texto_parrafo, a=3, s=11, style='List Bullet')\n",
    "\n",
    "# hoja tres\n",
    "doc.add_page_break()\n",
    "imagen = doc.add_picture('/content/doble.png', width=Cm(14), height=Cm(6))\n",
    "doc.paragraphs[-1].alignment = WD_ALIGN_PARAGRAPH.CENTER\n",
    "texto_parrafo = 'Finalmente nos damos cuenta de que la minera de Chuquicamata tubo su máxima producción en el 2004 a diferencia de la minera Escondida que tuvo su máximo el 2007.'\n",
    "formato_doc(texto_parrafo, a=3, s=11, style='List Bullet')\n",
    "\n",
    "formato_doc('conclusión', a=WD_ALIGN_PARAGRAPH.CENTER, b=True, s=11, rgb=RGBColor(0, 32, 96))\n",
    "\n",
    "texto_parrafo = 'Adicionalmente en base al crucé de la producción de ambas mineras (grafico de línea doble), donde podemos visualizar que la minera Chuquicamata en su año de mayor producción (2004) no alcanzo las 700 toneladas de cobre (691 toneladas), y la minera Escondida en sus peores años, no bajo de las 754 toneladas. Esto nos permite inferir que la minera escondida es una de las mineras más relevantes en nuestro país, además que dicha producción se puede deber a varios factores como (tecnología, capacidad entre otros).'\n",
    "formato_doc(texto_parrafo, a=3, s=11, style='List Bullet')\n",
    "\n",
    "# Guardar el documento\n",
    "doc.save('Trabajo_Unidad_III.docx')\n",
    "# Descargar el documento\n",
    "from google.colab import files\n",
    "files.download('Trabajo_Unidad_III.docx')"
   ]
  }
 ],
 "metadata": {
  "colab": {
   "provenance": []
  },
  "kernelspec": {
   "display_name": "Python 3",
   "name": "python3"
  },
  "language_info": {
   "name": "python"
  }
 },
 "nbformat": 4,
 "nbformat_minor": 0
}
