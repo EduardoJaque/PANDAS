{
 "cells": [
  {
   "cell_type": "markdown",
   "metadata": {
    "id": "qyqQlV5Dgfer"
   },
   "source": [
    "# **Trabajo Unidad I**\n",
    "\n",
    "Integrantes\n",
    "*   EDUARDO JAQUE\n",
    "\n",
    "\n",
    "\n"
   ]
  },
  {
   "cell_type": "markdown",
   "metadata": {
    "id": "aH52T7Gmg3vx"
   },
   "source": [
    "# Respuesta a Preguntas"
   ]
  },
  {
   "cell_type": "markdown",
   "metadata": {
    "id": "6ywhvNAQgxkg"
   },
   "source": [
    "1. Construye un programa para crear 4 vectores numéricos de tal forma que cada uno guarde la altura de los árboles de cada área de terreno.\n"
   ]
  },
  {
   "cell_type": "code",
   "execution_count": null,
   "metadata": {
    "id": "-szDnkw7gZiU"
   },
   "outputs": [],
   "source": [
    "# VARIABLES CON LAS ALTURAS DE LOS ARBOLES POR ÁREAS DE TRABAJO\n",
    "\n",
    "Area_1 = [7.5,12,14.5]\n",
    "Area_2 = [12.5,10.5,13,9,18.5]\n",
    "Area_3 = [11,8,7.5,9.5,19,14]\n",
    "Area_4 = [12.5,16,9.5,10]\n"
   ]
  },
  {
   "cell_type": "markdown",
   "metadata": {
    "id": "7f5WbS8fg2Qo"
   },
   "source": [
    "2. Construye un programa  para agrupar los 4 vectores generados en una lista (estructura de datos).\n"
   ]
  },
  {
   "cell_type": "code",
   "execution_count": null,
   "metadata": {
    "colab": {
     "base_uri": "https://localhost:8080/"
    },
    "executionInfo": {
     "elapsed": 247,
     "status": "ok",
     "timestamp": 1730727512176,
     "user": {
      "displayName": "AGUSTÍN EDUARDO FUENZALIDA VERGARA",
      "userId": "01358482526550659102"
     },
     "user_tz": 180
    },
    "id": "CiNnKCyAgyZ8",
    "outputId": "5e00ffdf-3043-49f5-93c4-12b2f4025b11"
   },
   "outputs": [
    {
     "name": "stdout",
     "output_type": "stream",
     "text": [
      "[[7.5, 12, 14.5], [12.5, 10.5, 13, 9, 18.5], [11, 8, 7.5, 9.5, 19, 14], [12.5, 16, 9.5, 10]]\n"
     ]
    }
   ],
   "source": [
    "Todas_Areas=[Area_1,Area_2,Area_3,Area_4]\n",
    "print(Todas_Areas)"
   ]
  },
  {
   "cell_type": "markdown",
   "metadata": {
    "id": "W_v_XQwCg_ov"
   },
   "source": [
    "3. Construye un programa para determinar en cada área de terreno si la altura del primer árbol es mayor a la del último árbol.\n"
   ]
  },
  {
   "cell_type": "code",
   "execution_count": null,
   "metadata": {
    "colab": {
     "base_uri": "https://localhost:8080/"
    },
    "executionInfo": {
     "elapsed": 921,
     "status": "ok",
     "timestamp": 1730727516262,
     "user": {
      "displayName": "AGUSTÍN EDUARDO FUENZALIDA VERGARA",
      "userId": "01358482526550659102"
     },
     "user_tz": 180
    },
    "id": "Xm7TX6Xdg9TN",
    "outputId": "9c54b920-32d1-43a5-95ee-d326970d4257"
   },
   "outputs": [
    {
     "name": "stdout",
     "output_type": "stream",
     "text": [
      "En el area de trabajo N.°4 la altura del primer árbol es mayor a la del último árbol\n",
      "En el area de trabajo N.°4 la altura del primer árbol es mayor a la del último árbol\n",
      "area de trabajo N.°4 == [12.5, 16, 9.5, 10]\n"
     ]
    }
   ],
   "source": [
    "\"\"\"\n",
    "VAMOS A MOSTRAR DOS FORMAS DE REALIZAR ESTE EJERCICIO\n",
    "1 CON SENTENCIAS IF INDIVIDUALES\n",
    "2 DE UNA FORMA MÁS AUTOMATIZADA\n",
    "\"\"\"\n",
    "# Forma N.°1\n",
    "if Todas_Areas[0][0]>Todas_Areas[0][2]:\n",
    "  print(\"En el area de trabajo N.°1. la altura del primer árbol es \" \\\n",
    "      \"mayor a la del último árbol\")\n",
    "if Todas_Areas[1][0]>Todas_Areas[1][4]:\n",
    "  print(\"En el area de trabajo N.°2. la altura del primer árbol es \" \\\n",
    "      \"mayor a la del último árbol\")\n",
    "if Todas_Areas[2][0]>Todas_Areas[2][5]:\n",
    "  print(\"En el area de trabajo N.°3. la altura del primer árbol es \" \\\n",
    "      \"mayor a la del último árbol\")\n",
    "if Todas_Areas[3][0]>Todas_Areas[3][3]:\n",
    "  print(\"En el area de trabajo N.°4 la altura del primer árbol es \" \\\n",
    "      \"mayor a la del último árbol\")\n",
    "\n",
    "\n",
    "# Forma N.° 2\n",
    "for i, area in enumerate(Todas_Areas):\n",
    "  if area[0] > area[-1]:\n",
    "    print(f\"En el area de trabajo N.°{i+1} la altura del primer árbol es \" \\\n",
    "      \"mayor a la del último árbol\")\n",
    "    print(f\"area de trabajo N.°{i+1} == {area}\")"
   ]
  },
  {
   "cell_type": "markdown",
   "metadata": {
    "id": "E_M8l6cLg_cz"
   },
   "source": [
    "4. Construye un programa para determinar el logaritmo decimal de la altura del tercer árbol del área de terreno 3.\n"
   ]
  },
  {
   "cell_type": "code",
   "execution_count": null,
   "metadata": {
    "colab": {
     "base_uri": "https://localhost:8080/"
    },
    "executionInfo": {
     "elapsed": 260,
     "status": "ok",
     "timestamp": 1730727725478,
     "user": {
      "displayName": "AGUSTÍN EDUARDO FUENZALIDA VERGARA",
      "userId": "01358482526550659102"
     },
     "user_tz": 180
    },
    "id": "ePVrsG4Rg9P7",
    "outputId": "d69d0559-7416-453c-c501-faa7c2f94e08"
   },
   "outputs": [
    {
     "name": "stdout",
     "output_type": "stream",
     "text": [
      "El logaritmo decimal de la altura del tercer árbol en el área 3 es: 0.88\n",
      "El logaritmo decimal de la altura del tercer árbol en el área 3 es: 0.88\n"
     ]
    }
   ],
   "source": [
    "\"\"\"\n",
    "De igual forma en esta ocacion mostraremos dos maneras de realizar el ejercicio\n",
    "1 importando una biblioteca MATH\n",
    "2 sin importar biblioteca y creando una funcion que calcula el logn\n",
    "\"\"\"\n",
    "# Forma N.°1\n",
    "import math\n",
    "# Obtener la altura del tercer árbol del área 3\n",
    "altura_tercer_arbol_area_3 = Todas_Areas[2][2]\n",
    "# Calcular el logaritmo decimal de la altura\n",
    "logaritmo_decimal = math.log10(altura_tercer_arbol_area_3)\n",
    "print(\"El logaritmo decimal de la altura del tercer árbol en el área 3 es: \" \\\n",
    "      f\"{logaritmo_decimal:.2f}\")\n",
    "\n",
    "# Forma N.2\n",
    "\n",
    "def logaritmo_decimal(x, precision=100):\n",
    "  # Función para calcular el logaritmo decimal (base 10) usando una aproximación\n",
    "\n",
    "  # este if corrobora que la entrada sea mayor a 0\n",
    "  # y con el valueError lansamos un mensaje\n",
    "    if x <= 0:\n",
    "        raise ValueError(\"La entrada debe ser mayor que cero.\")\n",
    "\n",
    "    n = (x - 1) / (x + 1)\n",
    "    n2 = n * n\n",
    "    resultado = 0\n",
    "\n",
    "    for i in range(1, precision, 2):\n",
    "        resultado += (1 / i) * n\n",
    "        n *= n2\n",
    "    # Aproximación del logaritmo natural de 10\n",
    "    return 2 * resultado / (2.302585092994046)\n",
    "\n",
    "#dentro de este print con ayuda de \"F string\" llamamos a la funcion\n",
    "# y redondeamos a 2 decimales\n",
    "print(f\"El logaritmo decimal de la altura del tercer árbol en el área 3 es: \" \\\n",
    "      f\"{logaritmo_decimal(Todas_Areas[2][2]):.2f}\")\n",
    "\n",
    "\n",
    "# se puede apreciar la gran eficiencia que nos brinda ocupar una librería\n"
   ]
  },
  {
   "cell_type": "markdown",
   "metadata": {
    "id": "mC6tITCJg_Sm"
   },
   "source": [
    "5. Construye un programa para determinar la suma de las alturas de los 3 primeros árboles del área de terreno 4. Usa un ciclo.\n"
   ]
  },
  {
   "cell_type": "code",
   "execution_count": null,
   "metadata": {
    "colab": {
     "base_uri": "https://localhost:8080/"
    },
    "executionInfo": {
     "elapsed": 253,
     "status": "ok",
     "timestamp": 1730727676346,
     "user": {
      "displayName": "AGUSTÍN EDUARDO FUENZALIDA VERGARA",
      "userId": "01358482526550659102"
     },
     "user_tz": 180
    },
    "id": "pQ6PEK4Jg9NA",
    "outputId": "73f2fa21-5983-4922-f12a-685a6dded1ca"
   },
   "outputs": [
    {
     "name": "stdout",
     "output_type": "stream",
     "text": [
      "la suma de los tres primeros arboles es 38.0\n",
      "la suma de los tres primeros arboles es 38.0\n"
     ]
    }
   ],
   "source": [
    "\"\"\"\n",
    "mostraremos dos formas:\n",
    "1 sencilla\n",
    "2 escalabe y reutilizable\n",
    "\"\"\"\n",
    "#Forma N.°1\n",
    "suma=0\n",
    "for i in Todas_Areas[3][0:3]:\n",
    "  suma+=i\n",
    "print(f\"la suma de los tres primeros arboles es {suma}\")\n",
    "\n",
    "\n",
    "#Forma N.°2\n",
    "Area_A_trabajar=3\n",
    "Desde_indice=0\n",
    "Hasta_indice=3\n",
    "def Sumar_alturas(area,desde,hasta):\n",
    "  suma2=0\n",
    "  for i in Todas_Areas[area][desde:hasta]:\n",
    "    suma2+=i\n",
    "  return suma2\n",
    "\n",
    "print(f\"la suma de los tres primeros arboles es \" \\\n",
    " f\"{Sumar_alturas(Area_A_trabajar,Desde_indice,Hasta_indice)}\")\n",
    "\n",
    "\n",
    "# esta segunda forma si bien el principio es el mismo, tiene la ventaja\n",
    "# de que se puede reutilizar, modificando unas líneas de código y agregando\n",
    "# otras, podemos tener una herramienta automatizada\n"
   ]
  },
  {
   "cell_type": "markdown",
   "metadata": {
    "id": "rikFYV2Gg_GZ"
   },
   "source": [
    "6. Construye un programa para determinar la altura media de los árboles del área de terreno 1. Usa un ciclo."
   ]
  },
  {
   "cell_type": "code",
   "execution_count": null,
   "metadata": {
    "colab": {
     "base_uri": "https://localhost:8080/"
    },
    "executionInfo": {
     "elapsed": 261,
     "status": "ok",
     "timestamp": 1730728092397,
     "user": {
      "displayName": "AGUSTÍN EDUARDO FUENZALIDA VERGARA",
      "userId": "01358482526550659102"
     },
     "user_tz": 180
    },
    "id": "DFZdab7kg9KE",
    "outputId": "0327a975-bea9-4db0-a9bd-6a1a398d99e4"
   },
   "outputs": [
    {
     "name": "stdout",
     "output_type": "stream",
     "text": [
      "La altura media de los árboles del área de terreno 1 es: 11.33 cm\n",
      "La altura media de los árboles del área de terreno 1 es: 11.33 cm\n"
     ]
    }
   ],
   "source": [
    "\"\"\"\n",
    "definimos el área donde trabajaremos (área 1) y la asignamos a una\n",
    "variable (lista)\n",
    "\"\"\"\n",
    "alturas = Todas_Areas[0]\n",
    "\n",
    "# esta variable es para ir sumando con el bucle for\n",
    "suma_alturas = 0\n",
    "\n",
    "# Recorre cada altura en la lista y suma\n",
    "for altura in alturas:\n",
    "    suma_alturas += altura\n",
    "\n",
    "# Calcula la altura media\n",
    "altura_media = suma_alturas / len(alturas)\n",
    "\n",
    "print(f\"La altura media de los árboles del área de terreno 1 es: \" \\\n",
    "      f\"{altura_media:.2f} cm\")\n",
    "\n",
    "# Forma N.°2\n",
    "\n",
    "\n",
    "# Calcular la altura media\n",
    "altura_media = sum(alturas) / len(alturas)\n",
    "\n",
    "print(f\"La altura media de los árboles del área de terreno 1 es: \" \\\n",
    "      f\"{altura_media:.2f} cm\")\n",
    "\n",
    "\n"
   ]
  },
  {
   "cell_type": "markdown",
   "metadata": {
    "id": "AGXRED_zp9ZT"
   },
   "source": [
    "# **Conclusión**\n",
    "\n",
    "Finalmente terminado este ejercicio, nos damos cuenta de que si conocemos tanto librerías de python como formas pythonicas, podemos reducir nuestras líneas de código, optimizarlo, reutilizarlo y llegar a el mismo resultado de formas diferentes.\n",
    "\n",
    "Cabe señalar que la intención de esto no es demostrar altanería o alguna mala actitud, la intención de realizar dos formas o maneras distintas de obtener los resultados solicitados, es solamente para demostrar la eficiencia que puede tener Python y como aprovechar esto a nuestro favor.\n"
   ]
  }
 ],
 "metadata": {
  "colab": {
   "provenance": []
  },
  "kernelspec": {
   "display_name": "Python 3",
   "name": "python3"
  },
  "language_info": {
   "name": "python"
  }
 },
 "nbformat": 4,
 "nbformat_minor": 0
}
